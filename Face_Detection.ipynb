{
 "cells": [
  {
   "cell_type": "code",
   "execution_count": 2,
   "metadata": {},
   "outputs": [],
   "source": [
    "import cv2"
   ]
  },
  {
   "cell_type": "code",
   "execution_count": 3,
   "metadata": {},
   "outputs": [],
   "source": [
    "cap = cv2.VideoCapture(0)\n",
    "face_cascade = cv2.CascadeClassifier(\"haarcascade_frontalface_alt.xml\")\n",
    "while True:\n",
    "    ret,frame = cap.read()\n",
    "    # For a different frame \n",
    "    gray_frame = cv2.cvtColor(frame,cv2.COLOR_BGR2GRAY)\n",
    "    # ret is boolean value can be either true or false\n",
    "    if ret == False:\n",
    "        continue\n",
    "        \n",
    "    faces = face_cascade.detectMultiScale(gray_frame,1.3,5)    \n",
    "    # The first argument is scale Factor which is a parameter signifying how much the image size is reduced at each image scale\n",
    "    # minNeighbours specifies how many neighbours each candidate rectangle should have\n",
    "    \n",
    "    #cv2.imshow(\"Video Frame\",frame)\n",
    "    #cv2.imshow(\"Gray Frame\",gray_frame)\n",
    "    \n",
    "    for(x,y,w,h) in faces:\n",
    "        cv2.rectangle(frame,(x,y),(x+w,y+h),(255,0,0),2)\n",
    "    cv2.imshow(\"Video Frame\",frame)\n",
    "    #Wait for user Input - q, Only then you will stop\n",
    "    key_pressed = cv2.waitKey(1) & 0xFF\n",
    "    # ord is a method which basically tells the ascii value of a particular character\n",
    "    if key_pressed == ord('q'):\n",
    "        break\n",
    "cap.release()\n",
    "cv2.destroyAllWindows()"
   ]
  },
  {
   "cell_type": "code",
   "execution_count": null,
   "metadata": {},
   "outputs": [],
   "source": []
  }
 ],
 "metadata": {
  "kernelspec": {
   "display_name": "Python 3",
   "language": "python",
   "name": "python3"
  },
  "language_info": {
   "codemirror_mode": {
    "name": "ipython",
    "version": 3
   },
   "file_extension": ".py",
   "mimetype": "text/x-python",
   "name": "python",
   "nbconvert_exporter": "python",
   "pygments_lexer": "ipython3",
   "version": "3.6.5"
  }
 },
 "nbformat": 4,
 "nbformat_minor": 2
}
